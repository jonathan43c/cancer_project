{
 "cells": [
  {
   "cell_type": "code",
   "execution_count": null,
   "metadata": {},
   "outputs": [],
   "source": [
    "# Importar las librerías necesarias para análisis de datos y visualización\n",
    "import pandas as pd\n",
    "import numpy as np\n",
    "import matplotlib.pyplot as plt\n",
    "import seaborn as sns\n",
    "# Importar Pillow para la manipulación de imágenes\n",
    "from PIL import Image\n",
    "\n",
    "# Cargar los datos desde un archivo CSV\n",
    "data = pd.read_csv('../data/data.csv')\n",
    "\n",
    "# Mostrar las primeras filas del DataFrame\n",
    "data.head()\n",
    "\n",
    "# Visualizar la distribución de las etiquetas\n",
    "sns.countplot(data['label'])\n",
    "plt.title('Distribución de las etiquetas')\n",
    "plt.show()\n",
    "\n",
    "# Función para mostrar imágenes de ejemplo\n",
    "def show_images(df, label, n=5):\n",
    "    plt.figure(figsize=(15, 5))\n",
    "    sample = df[df['label'] == label].sample(n)\n",
    "    for i, row in enumerate(sample.itertuples()):\n",
    "        img = Image.open(row.image_path)\n",
    "        plt.subplot(1, n, i+1)\n",
    "        plt.imshow(img)\n",
    "        plt.axis('off')\n",
    "    plt.suptitle(f'Ejemplos de {label}')\n",
    "    plt.show()\n",
    "\n",
    "# Mostrar ejemplos de imágenes de melanoma\n",
    "show_images(data, 'melanoma')\n",
    "# Mostrar ejemplos de imágenes de no melanoma\n",
    "show_images(data, 'no_melanoma')\n"
   ]
  }
 ],
 "metadata": {
  "language_info": {
   "name": "python"
  }
 },
 "nbformat": 4,
 "nbformat_minor": 2
}
